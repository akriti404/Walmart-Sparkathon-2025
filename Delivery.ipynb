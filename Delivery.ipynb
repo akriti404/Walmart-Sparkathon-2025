{
 "cells": [
  {
   "cell_type": "code",
   "execution_count": 1,
   "id": "522fc52e-6817-44af-b12a-ccc445d859b0",
   "metadata": {},
   "outputs": [
    {
     "name": "stderr",
     "output_type": "stream",
     "text": [
      "Cloning into 'Walmart-Sparkathon-2025'...\n"
     ]
    }
   ],
   "source": [
    "!git clone https://github.com/akriti404/Walmart-Sparkathon-2025.git"
   ]
  },
  {
   "cell_type": "code",
   "execution_count": 1,
   "id": "147a822c-530f-4887-9b34-2ef7bc188c27",
   "metadata": {},
   "outputs": [
    {
     "name": "stderr",
     "output_type": "stream",
     "text": [
      "fatal: detected dubious ownership in repository at 'C:/Users/akrit'\n",
      "'C:/Users/akrit' is owned by:\n",
      "\tNT AUTHORITY/SYSTEM (S-1-5-18)\n",
      "but the current user is:\n",
      "\tDESKTOP-1TPC3JM/akrit (S-1-5-21-592913726-2937418921-1112253662-1001)\n",
      "To add an exception for this directory, call:\n",
      "\n",
      "\tgit config --global --add safe.directory C:/Users/akrit\n"
     ]
    }
   ],
   "source": [
    "!git status\n"
   ]
  },
  {
   "cell_type": "code",
   "execution_count": 3,
   "id": "606087d7-d6b9-4de3-abe4-c66d1e9bbf16",
   "metadata": {},
   "outputs": [
    {
     "name": "stdout",
     "output_type": "stream",
     "text": [
      "C:\\Users\\akrit\\Walmart-Sparkathon-2025\n"
     ]
    }
   ],
   "source": [
    "cd Walmart-Sparkathon-2025"
   ]
  },
  {
   "cell_type": "code",
   "execution_count": 5,
   "id": "4e5a5f4a-4e03-4532-9e00-14ea142e8d9b",
   "metadata": {},
   "outputs": [
    {
     "name": "stderr",
     "output_type": "stream",
     "text": [
      "fatal: pathspec 'Delivery.ipynb' did not match any files\n"
     ]
    }
   ],
   "source": [
    "!git add Delivery.ipynb"
   ]
  },
  {
   "cell_type": "code",
   "execution_count": null,
   "id": "abd29f9b-62e2-4f3f-8eb9-9f4613d79d63",
   "metadata": {},
   "outputs": [],
   "source": []
  }
 ],
 "metadata": {
  "kernelspec": {
   "display_name": "Python 3 (ipykernel)",
   "language": "python",
   "name": "python3"
  },
  "language_info": {
   "codemirror_mode": {
    "name": "ipython",
    "version": 3
   },
   "file_extension": ".py",
   "mimetype": "text/x-python",
   "name": "python",
   "nbconvert_exporter": "python",
   "pygments_lexer": "ipython3",
   "version": "3.11.7"
  }
 },
 "nbformat": 4,
 "nbformat_minor": 5
}
